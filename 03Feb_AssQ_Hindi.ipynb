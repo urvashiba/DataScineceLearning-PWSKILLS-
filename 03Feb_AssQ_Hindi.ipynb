{
  "metadata": {
    "kernelspec": {
      "name": "python",
      "display_name": "Python (Pyodide)",
      "language": "python"
    },
    "language_info": {
      "codemirror_mode": {
        "name": "python",
        "version": 3
      },
      "file_extension": ".py",
      "mimetype": "text/x-python",
      "name": "python",
      "nbconvert_exporter": "python",
      "pygments_lexer": "ipython3",
      "version": "3.8"
    }
  },
  "nbformat_minor": 5,
  "nbformat": 4,
  "cells": [
    {
      "id": "9b185800-ce44-4df1-acce-f7657f525b2d",
      "cell_type": "code",
      "source": "# Q1: Function to return a list of odd numbers in the range of 1 to 25\ndef odd_numbers():\n    return [num for num in range(1, 26) if num % 2 != 0]\n\nprint(\"Output:\", odd_numbers())\n",
      "metadata": {
        "trusted": true
      },
      "outputs": [
        {
          "name": "stdout",
          "text": "Output: [1, 3, 5, 7, 9, 11, 13, 15, 17, 19, 21, 23, 25]\n",
          "output_type": "stream"
        }
      ],
      "execution_count": 10
    },
    {
      "id": "aab691d4-30b3-42fc-903b-3cbfb4a4bc12",
      "cell_type": "code",
      "source": "# Q2: Demonstrating *args and **kwargs\ndef demo_args(*args):\n    return sum(args)\n\ndef demo_kwargs(**kwargs):\n    return kwargs\n\nprint(\"Output (args):\", demo_args(1, 2, 3, 4, 5))\nprint(\"Output (kwargs):\", demo_kwargs(a=1, b=2, c=3))",
      "metadata": {
        "trusted": true
      },
      "outputs": [
        {
          "name": "stdout",
          "text": "Output (args): 15\nOutput (kwargs): {'a': 1, 'b': 2, 'c': 3}\n",
          "output_type": "stream"
        }
      ],
      "execution_count": 11
    },
    {
      "id": "0396c985-8599-4a76-9b29-1084b41982f0",
      "cell_type": "code",
      "source": "# Q3: Iterator in Python\nnumbers = [2, 4, 6, 8, 10, 12, 14, 16, 18, 20]\niterator = iter(numbers)\n\nprint(\"Output:\")\nfor _ in range(5):\n    print(next(iterator))",
      "metadata": {
        "trusted": true
      },
      "outputs": [
        {
          "name": "stdout",
          "text": "Output:\n2\n4\n6\n8\n10\n",
          "output_type": "stream"
        }
      ],
      "execution_count": 12
    },
    {
      "id": "eeca565b-a1c3-4aad-86a5-b861d35de735",
      "cell_type": "code",
      "source": "# Q4: Generator function and the `yield` keyword\ndef simple_generator():\n    for i in range(5):\n        yield i\n\ngen = simple_generator()\nprint(\"Output:\", list(gen))",
      "metadata": {
        "trusted": true
      },
      "outputs": [
        {
          "name": "stdout",
          "text": "Output: [0, 1, 2, 3, 4]\n",
          "output_type": "stream"
        }
      ],
      "execution_count": 13
    },
    {
      "id": "44845e85-0da6-4087-85cb-d73afe9ece90",
      "cell_type": "code",
      "source": "# Q5: Generator function for prime numbers less than 1000\ndef prime_generator():\n    for num in range(2, 1000):\n        if all(num % i != 0 for i in range(2, int(num ** 0.5) + 1)):\n            yield num\n\nprime_gen = prime_generator()\nprint(\"Output:\", [next(prime_gen) for _ in range(20)])",
      "metadata": {
        "trusted": true
      },
      "outputs": [
        {
          "name": "stdout",
          "text": "Output: [2, 3, 5, 7, 11, 13, 17, 19, 23, 29, 31, 37, 41, 43, 47, 53, 59, 61, 67, 71]\n",
          "output_type": "stream"
        }
      ],
      "execution_count": 14
    },
    {
      "id": "89e83507-29f1-4734-96ab-ce9b38491d1e",
      "cell_type": "code",
      "source": "# Q6: First 10 Fibonacci numbers using a while loop\nfib_sequence = []\na, b = 0, 1\ncount = 0\nwhile count < 10:\n    fib_sequence.append(a)\n    a, b = b, a + b\n    count += 1\nprint(\"Output:\", fib_sequence)",
      "metadata": {
        "trusted": true
      },
      "outputs": [
        {
          "name": "stdout",
          "text": "Output: [0, 1, 1, 2, 3, 5, 8, 13, 21, 34]\n",
          "output_type": "stream"
        }
      ],
      "execution_count": 15
    },
    {
      "id": "03ffb673-f021-42a0-89e0-18cf5037add6",
      "cell_type": "code",
      "source": "# Q7: List comprehension to iterate through the string 'pwskills'\nstring = 'pwskills'\nresult = [char for char in string]\nprint(\"Output:\", result)\n",
      "metadata": {
        "trusted": true
      },
      "outputs": [
        {
          "name": "stdout",
          "text": "Output: ['p', 'w', 's', 'k', 'i', 'l', 'l', 's']\n",
          "output_type": "stream"
        }
      ],
      "execution_count": 16
    },
    {
      "id": "9d204721-4360-4490-aa7d-6a5855ac49a0",
      "cell_type": "code",
      "source": "# Q8: Check if a number is a palindrome\nnumber = 121  # Example number\noriginal = number\nreversed_num = 0\nwhile number > 0:\n    digit = number % 10\n    reversed_num = reversed_num * 10 + digit\n    number //= 10\n\nprint(\"Output:\", \"Palindrome\" if original == reversed_num else \"Not a palindrome\")\n",
      "metadata": {
        "trusted": true
      },
      "outputs": [
        {
          "name": "stdout",
          "text": "Output: Palindrome\n",
          "output_type": "stream"
        }
      ],
      "execution_count": 17
    },
    {
      "id": "8c964c6b-689a-4df0-b516-a4395184297e",
      "cell_type": "code",
      "source": "# Q9: Odd numbers from 1 to 100 using list comprehension\nnumbers = [i for i in range(1, 101)]\nodd_numbers = [num for num in numbers if num % 2 != 0]\nprint(\"Output:\", odd_numbers)\n",
      "metadata": {
        "trusted": true
      },
      "outputs": [
        {
          "name": "stdout",
          "text": "Output: [1, 3, 5, 7, 9, 11, 13, 15, 17, 19, 21, 23, 25, 27, 29, 31, 33, 35, 37, 39, 41, 43, 45, 47, 49, 51, 53, 55, 57, 59, 61, 63, 65, 67, 69, 71, 73, 75, 77, 79, 81, 83, 85, 87, 89, 91, 93, 95, 97, 99]\n",
          "output_type": "stream"
        }
      ],
      "execution_count": 18
    }
  ]
}